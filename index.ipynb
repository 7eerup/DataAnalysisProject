{
 "cells": [
  {
   "cell_type": "markdown",
   "id": "741eea1f",
   "metadata": {},
   "source": [
    "데이터 전처리"
   ]
  },
  {
   "cell_type": "code",
   "execution_count": 4,
   "id": "02282da6-3be0-4e80-8ffe-c3402395002e",
   "metadata": {},
   "outputs": [
    {
     "name": "stdout",
     "output_type": "stream",
     "text": [
      "CSV file saved at: 부산빈집_최종.csv\n"
     ]
    }
   ],
   "source": [
    "import pandas as pd\n",
    "\n",
    "region_name = '부산'\n",
    "# Step 1: Load the initial dataset\n",
    "file_path = f\"C:/Users/USER/Desktop/python/data/{region_name}_빈집_20년이하.CSV\"  # Replace with your initial file path\n",
    "data = pd.read_csv(file_path, encoding='euc-kr')\n",
    "\n",
    "# Add '20년이하' column\n",
    "data['20년이하'] = data['전체 빈집수']\n",
    "\n",
    "# Step 2: Define the files and corresponding new columns\n",
    "file_column_mapping = {\n",
    "    f\"C:/Users/USER/Desktop/python/data/{region_name}_빈집_20년이상30년이하.CSV\": '20년이상30년미만',\n",
    "    f\"C:/Users/USER/Desktop/python/data/{region_name}_빈집_30년이상40년이하.CSV\": '30년이상40년미만',\n",
    "    f\"C:/Users/USER/Desktop/python/data/{region_name}_빈집_40년이상.CSV\": '40년이상'\n",
    "}\n",
    "\n",
    "# Step 3: Add columns for new age ranges\n",
    "for column in file_column_mapping.values():\n",
    "    data[column] = 0\n",
    "\n",
    "# Step 4: Process each file and update the data\n",
    "for file, column in file_column_mapping.items():\n",
    "    new_data = pd.read_csv(file, encoding='euc-kr')\n",
    "    \n",
    "    # Clean numeric data\n",
    "    new_data['전체 빈집수'] = new_data['전체 빈집수'].replace(',', '', regex=True).astype(float)\n",
    "    numeric_columns = data.columns[data.columns.get_loc('전체 빈집수'):data.columns.get_loc('기타')+1]\n",
    "    new_data[numeric_columns] = new_data[numeric_columns].apply(\n",
    "        lambda col: col.replace(',', '', regex=True).astype(float) if col.dtype == 'object' else col\n",
    "    )\n",
    "    \n",
    "    # Update or append rows based on '지역' match\n",
    "    for _, row in new_data.iterrows():\n",
    "        region = row['지역']\n",
    "        matching_row = data[data['지역'] == region]\n",
    "        if not matching_row.empty:\n",
    "            idx = matching_row.index[0]\n",
    "            data.loc[idx, numeric_columns] += row[numeric_columns]\n",
    "            data.loc[idx, column] = row['전체 빈집수']\n",
    "        else:\n",
    "            new_row = pd.DataFrame([row], columns=new_data.columns)\n",
    "            new_row[column] = row['전체 빈집수']\n",
    "            data = pd.concat([data, new_row], ignore_index=True)\n",
    "\n",
    "# Step 5: Save the result to a CSV file\n",
    "output_file_path = f\"{region_name}빈집_최종.csv\"\n",
    "data.insert(0, '지역분류',region_name)\n",
    "data.to_csv(output_file_path, index=False, encoding='euc-kr')\n",
    "\n",
    "print(f\"CSV file saved at: {output_file_path}\")"
   ]
  }
 ],
 "metadata": {
  "kernelspec": {
   "display_name": ".venv",
   "language": "python",
   "name": "python3"
  },
  "language_info": {
   "codemirror_mode": {
    "name": "ipython",
    "version": 3
   },
   "file_extension": ".py",
   "mimetype": "text/x-python",
   "name": "python",
   "nbconvert_exporter": "python",
   "pygments_lexer": "ipython3",
   "version": "3.13.0"
  }
 },
 "nbformat": 4,
 "nbformat_minor": 5
}
